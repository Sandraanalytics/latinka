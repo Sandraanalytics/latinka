{
 "cells": [
  {
   "cell_type": "code",
   "execution_count": 9,
   "metadata": {},
   "outputs": [],
   "source": [
    "#librerias\n",
    "import pandas as pd\n",
    "import numpy as np\n",
    "import pyodbc\n",
    "\n",
    "import matplotlib.pyplot as plt\n",
    "import seaborn as sns\n",
    "\n",
    "\n",
    "from datetime import datetime\n",
    "from dateutil.relativedelta import relativedelta\n",
    "\n",
    "import warnings\n",
    "warnings.filterwarnings('ignore')\n"
   ]
  },
  {
   "attachments": {},
   "cell_type": "markdown",
   "metadata": {},
   "source": [
    "**1. Selección de datos**"
   ]
  },
  {
   "cell_type": "code",
   "execution_count": 2,
   "metadata": {},
   "outputs": [
    {
     "name": "stdout",
     "output_type": "stream",
     "text": [
      "<pyodbc.Connection object at 0x000001DC74507DF0>\n"
     ]
    }
   ],
   "source": [
    "#Conexión database\n",
    "conn = pyodbc.connect(DRIVER='{ODBC Driver 17 for SQL Server}',\n",
    "                      SERVER='dblatinkadwh.database.windows.net',\n",
    "                      DATABASE='DWH_LaTinka',\n",
    "                      UID='sandra.sanchez',\n",
    "                      PWD='Latinka01*')\n",
    "print(conn)\n"
   ]
  },
  {
   "cell_type": "code",
   "execution_count": 3,
   "metadata": {},
   "outputs": [],
   "source": [
    "#No se tomó en cuenta los datos con target null\n",
    "q0 = \"\"\"SELECT *\n",
    "        FROM [EDS].[TABLON_VARIABLE_FUGA]\n",
    "        WHERE CODMES=202304\"\"\"\n",
    "df = pd.read_sql_query(q0,conn)\n",
    "\n",
    "#Cerrar conexión \n",
    "conn.close()"
   ]
  },
  {
   "cell_type": "code",
   "execution_count": 4,
   "metadata": {},
   "outputs": [
    {
     "data": {
      "text/html": [
       "<div>\n",
       "<style scoped>\n",
       "    .dataframe tbody tr th:only-of-type {\n",
       "        vertical-align: middle;\n",
       "    }\n",
       "\n",
       "    .dataframe tbody tr th {\n",
       "        vertical-align: top;\n",
       "    }\n",
       "\n",
       "    .dataframe thead th {\n",
       "        text-align: right;\n",
       "    }\n",
       "</style>\n",
       "<table border=\"1\" class=\"dataframe\">\n",
       "  <thead>\n",
       "    <tr style=\"text-align: right;\">\n",
       "      <th></th>\n",
       "      <th>CODMES</th>\n",
       "      <th>ID_CLIENTE</th>\n",
       "      <th>TOTAL_RECARGA</th>\n",
       "      <th>TOTAL_TRANSACCION</th>\n",
       "      <th>FECHA_PRIMERA_RECARGA</th>\n",
       "      <th>FECHA_ULTIMA_RECARGA</th>\n",
       "      <th>PRODUCTO_PRINCIPAL</th>\n",
       "      <th>FRECUENCY</th>\n",
       "      <th>RECENCY</th>\n",
       "      <th>MONETARY</th>\n",
       "      <th>FECHA_NACIMIENTO</th>\n",
       "      <th>INDICE_FELICIDAD</th>\n",
       "    </tr>\n",
       "  </thead>\n",
       "  <tbody>\n",
       "    <tr>\n",
       "      <th>0</th>\n",
       "      <td>202304</td>\n",
       "      <td>1353400.0</td>\n",
       "      <td>30.0</td>\n",
       "      <td>1.0</td>\n",
       "      <td>2022-08-10</td>\n",
       "      <td>2022-08-10</td>\n",
       "      <td>Tinka</td>\n",
       "      <td>5. Ocasional</td>\n",
       "      <td>4. Perdido</td>\n",
       "      <td>5. Muy Bajo</td>\n",
       "      <td>1977-07-31</td>\n",
       "      <td>0.0</td>\n",
       "    </tr>\n",
       "    <tr>\n",
       "      <th>1</th>\n",
       "      <td>202304</td>\n",
       "      <td>959710.0</td>\n",
       "      <td>20.0</td>\n",
       "      <td>1.0</td>\n",
       "      <td>2022-12-02</td>\n",
       "      <td>2022-12-02</td>\n",
       "      <td>Te Apuesto</td>\n",
       "      <td>5. Ocasional</td>\n",
       "      <td>4. Perdido</td>\n",
       "      <td>5. Muy Bajo</td>\n",
       "      <td>1977-07-27</td>\n",
       "      <td>0.0</td>\n",
       "    </tr>\n",
       "    <tr>\n",
       "      <th>2</th>\n",
       "      <td>202304</td>\n",
       "      <td>1815598.0</td>\n",
       "      <td>80.0</td>\n",
       "      <td>1.0</td>\n",
       "      <td>2022-07-18</td>\n",
       "      <td>2022-07-18</td>\n",
       "      <td>Te Apuesto</td>\n",
       "      <td>5. Ocasional</td>\n",
       "      <td>4. Perdido</td>\n",
       "      <td>5. Muy Bajo</td>\n",
       "      <td>1981-10-21</td>\n",
       "      <td>1.0</td>\n",
       "    </tr>\n",
       "    <tr>\n",
       "      <th>3</th>\n",
       "      <td>202304</td>\n",
       "      <td>1986982.0</td>\n",
       "      <td>90.0</td>\n",
       "      <td>1.0</td>\n",
       "      <td>2022-11-06</td>\n",
       "      <td>2022-11-06</td>\n",
       "      <td>None</td>\n",
       "      <td>5. Ocasional</td>\n",
       "      <td>4. Perdido</td>\n",
       "      <td>5. Muy Bajo</td>\n",
       "      <td>1981-05-22</td>\n",
       "      <td>0.0</td>\n",
       "    </tr>\n",
       "    <tr>\n",
       "      <th>4</th>\n",
       "      <td>202304</td>\n",
       "      <td>2368223.0</td>\n",
       "      <td>300.0</td>\n",
       "      <td>1.0</td>\n",
       "      <td>2022-12-30</td>\n",
       "      <td>2022-12-30</td>\n",
       "      <td>Te Apuesto</td>\n",
       "      <td>5. Ocasional</td>\n",
       "      <td>4. Perdido</td>\n",
       "      <td>4. Bajo</td>\n",
       "      <td>1990-06-06</td>\n",
       "      <td>0.0</td>\n",
       "    </tr>\n",
       "    <tr>\n",
       "      <th>...</th>\n",
       "      <td>...</td>\n",
       "      <td>...</td>\n",
       "      <td>...</td>\n",
       "      <td>...</td>\n",
       "      <td>...</td>\n",
       "      <td>...</td>\n",
       "      <td>...</td>\n",
       "      <td>...</td>\n",
       "      <td>...</td>\n",
       "      <td>...</td>\n",
       "      <td>...</td>\n",
       "      <td>...</td>\n",
       "    </tr>\n",
       "    <tr>\n",
       "      <th>470125</th>\n",
       "      <td>202304</td>\n",
       "      <td>857247.0</td>\n",
       "      <td>20.0</td>\n",
       "      <td>1.0</td>\n",
       "      <td>2022-05-05</td>\n",
       "      <td>2022-05-05</td>\n",
       "      <td>Te Apuesto</td>\n",
       "      <td>3. Frecuente</td>\n",
       "      <td>4. Perdido</td>\n",
       "      <td>5. Muy Bajo</td>\n",
       "      <td>1996-05-09</td>\n",
       "      <td>1.0</td>\n",
       "    </tr>\n",
       "    <tr>\n",
       "      <th>470126</th>\n",
       "      <td>202304</td>\n",
       "      <td>1950088.0</td>\n",
       "      <td>20.0</td>\n",
       "      <td>1.0</td>\n",
       "      <td>2022-10-14</td>\n",
       "      <td>2022-10-14</td>\n",
       "      <td>Tinka</td>\n",
       "      <td>4. Habitual</td>\n",
       "      <td>4. Perdido</td>\n",
       "      <td>5. Muy Bajo</td>\n",
       "      <td>1993-10-26</td>\n",
       "      <td>0.0</td>\n",
       "    </tr>\n",
       "    <tr>\n",
       "      <th>470127</th>\n",
       "      <td>202304</td>\n",
       "      <td>681724.0</td>\n",
       "      <td>50.0</td>\n",
       "      <td>1.0</td>\n",
       "      <td>2022-05-17</td>\n",
       "      <td>2022-05-17</td>\n",
       "      <td>Raspaya</td>\n",
       "      <td>5. Ocasional</td>\n",
       "      <td>4. Perdido</td>\n",
       "      <td>5. Muy Bajo</td>\n",
       "      <td>1982-03-17</td>\n",
       "      <td>0.0</td>\n",
       "    </tr>\n",
       "    <tr>\n",
       "      <th>470128</th>\n",
       "      <td>202304</td>\n",
       "      <td>1277514.0</td>\n",
       "      <td>288.0</td>\n",
       "      <td>1.0</td>\n",
       "      <td>2022-10-23</td>\n",
       "      <td>2022-10-23</td>\n",
       "      <td>Tinka</td>\n",
       "      <td>5. Ocasional</td>\n",
       "      <td>4. Perdido</td>\n",
       "      <td>4. Bajo</td>\n",
       "      <td>1997-08-14</td>\n",
       "      <td>0.0</td>\n",
       "    </tr>\n",
       "    <tr>\n",
       "      <th>470129</th>\n",
       "      <td>202304</td>\n",
       "      <td>2534328.0</td>\n",
       "      <td>100.0</td>\n",
       "      <td>1.0</td>\n",
       "      <td>2023-04-22</td>\n",
       "      <td>2023-04-22</td>\n",
       "      <td>Te Apuesto</td>\n",
       "      <td>5. Ocasional</td>\n",
       "      <td>2. Dormido 1</td>\n",
       "      <td>5. Muy Bajo</td>\n",
       "      <td>1980-02-04</td>\n",
       "      <td>0.0</td>\n",
       "    </tr>\n",
       "  </tbody>\n",
       "</table>\n",
       "<p>470130 rows × 12 columns</p>\n",
       "</div>"
      ],
      "text/plain": [
       "        CODMES  ID_CLIENTE  TOTAL_RECARGA  TOTAL_TRANSACCION  \\\n",
       "0       202304   1353400.0           30.0                1.0   \n",
       "1       202304    959710.0           20.0                1.0   \n",
       "2       202304   1815598.0           80.0                1.0   \n",
       "3       202304   1986982.0           90.0                1.0   \n",
       "4       202304   2368223.0          300.0                1.0   \n",
       "...        ...         ...            ...                ...   \n",
       "470125  202304    857247.0           20.0                1.0   \n",
       "470126  202304   1950088.0           20.0                1.0   \n",
       "470127  202304    681724.0           50.0                1.0   \n",
       "470128  202304   1277514.0          288.0                1.0   \n",
       "470129  202304   2534328.0          100.0                1.0   \n",
       "\n",
       "       FECHA_PRIMERA_RECARGA FECHA_ULTIMA_RECARGA PRODUCTO_PRINCIPAL  \\\n",
       "0                 2022-08-10           2022-08-10              Tinka   \n",
       "1                 2022-12-02           2022-12-02         Te Apuesto   \n",
       "2                 2022-07-18           2022-07-18         Te Apuesto   \n",
       "3                 2022-11-06           2022-11-06               None   \n",
       "4                 2022-12-30           2022-12-30         Te Apuesto   \n",
       "...                      ...                  ...                ...   \n",
       "470125            2022-05-05           2022-05-05         Te Apuesto   \n",
       "470126            2022-10-14           2022-10-14              Tinka   \n",
       "470127            2022-05-17           2022-05-17            Raspaya   \n",
       "470128            2022-10-23           2022-10-23              Tinka   \n",
       "470129            2023-04-22           2023-04-22         Te Apuesto   \n",
       "\n",
       "           FRECUENCY       RECENCY     MONETARY FECHA_NACIMIENTO  \\\n",
       "0       5. Ocasional    4. Perdido  5. Muy Bajo       1977-07-31   \n",
       "1       5. Ocasional    4. Perdido  5. Muy Bajo       1977-07-27   \n",
       "2       5. Ocasional    4. Perdido  5. Muy Bajo       1981-10-21   \n",
       "3       5. Ocasional    4. Perdido  5. Muy Bajo       1981-05-22   \n",
       "4       5. Ocasional    4. Perdido      4. Bajo       1990-06-06   \n",
       "...              ...           ...          ...              ...   \n",
       "470125  3. Frecuente    4. Perdido  5. Muy Bajo       1996-05-09   \n",
       "470126   4. Habitual    4. Perdido  5. Muy Bajo       1993-10-26   \n",
       "470127  5. Ocasional    4. Perdido  5. Muy Bajo       1982-03-17   \n",
       "470128  5. Ocasional    4. Perdido      4. Bajo       1997-08-14   \n",
       "470129  5. Ocasional  2. Dormido 1  5. Muy Bajo       1980-02-04   \n",
       "\n",
       "        INDICE_FELICIDAD  \n",
       "0                    0.0  \n",
       "1                    0.0  \n",
       "2                    1.0  \n",
       "3                    0.0  \n",
       "4                    0.0  \n",
       "...                  ...  \n",
       "470125               1.0  \n",
       "470126               0.0  \n",
       "470127               0.0  \n",
       "470128               0.0  \n",
       "470129               0.0  \n",
       "\n",
       "[470130 rows x 12 columns]"
      ]
     },
     "execution_count": 4,
     "metadata": {},
     "output_type": "execute_result"
    }
   ],
   "source": [
    "df"
   ]
  },
  {
   "attachments": {},
   "cell_type": "markdown",
   "metadata": {},
   "source": [
    "**2. Procesamiento**"
   ]
  },
  {
   "cell_type": "code",
   "execution_count": 5,
   "metadata": {},
   "outputs": [
    {
     "name": "stdout",
     "output_type": "stream",
     "text": [
      "<class 'pandas.core.frame.DataFrame'>\n",
      "RangeIndex: 470130 entries, 0 to 470129\n",
      "Data columns (total 12 columns):\n",
      " #   Column                 Non-Null Count   Dtype  \n",
      "---  ------                 --------------   -----  \n",
      " 0   CODMES                 470130 non-null  int64  \n",
      " 1   ID_CLIENTE             470129 non-null  float64\n",
      " 2   TOTAL_RECARGA          470130 non-null  float64\n",
      " 3   TOTAL_TRANSACCION      470130 non-null  float64\n",
      " 4   FECHA_PRIMERA_RECARGA  470130 non-null  object \n",
      " 5   FECHA_ULTIMA_RECARGA   470130 non-null  object \n",
      " 6   PRODUCTO_PRINCIPAL     457999 non-null  object \n",
      " 7   FRECUENCY              467873 non-null  object \n",
      " 8   RECENCY                467873 non-null  object \n",
      " 9   MONETARY               467873 non-null  object \n",
      " 10  FECHA_NACIMIENTO       470012 non-null  object \n",
      " 11  INDICE_FELICIDAD       470129 non-null  float64\n",
      "dtypes: float64(4), int64(1), object(7)\n",
      "memory usage: 43.0+ MB\n"
     ]
    }
   ],
   "source": [
    "df.info()"
   ]
  },
  {
   "cell_type": "code",
   "execution_count": 6,
   "metadata": {},
   "outputs": [],
   "source": [
    "#Conversion de String a datetime\n",
    "#df['FECHA_ALTA_SISTEMA'] = pd.to_datetime(df['FECHA_ALTA_SISTEMA'], format = \"%Y-%m-%d\")\n",
    "df['FECHA_NACIMIENTO'] = pd.to_datetime(df['FECHA_NACIMIENTO'], format = \"%Y-%m-%d\",errors='coerce')\n",
    "df['FECHA_PRIMERA_RECARGA'] = pd.to_datetime(df['FECHA_PRIMERA_RECARGA'], format=\"%Y-%m-%d\",errors='coerce')\n",
    "df['FECHA_ULTIMA_RECARGA'] = pd.to_datetime(df['FECHA_ULTIMA_RECARGA'], format = \"%Y-%m-%d\",errors='coerce')"
   ]
  },
  {
   "cell_type": "code",
   "execution_count": 7,
   "metadata": {},
   "outputs": [
    {
     "data": {
      "text/plain": [
       "CODMES                       0\n",
       "ID_CLIENTE                   1\n",
       "TOTAL_RECARGA                0\n",
       "TOTAL_TRANSACCION            0\n",
       "FECHA_PRIMERA_RECARGA        0\n",
       "FECHA_ULTIMA_RECARGA         0\n",
       "PRODUCTO_PRINCIPAL       12131\n",
       "FRECUENCY                 2257\n",
       "RECENCY                   2257\n",
       "MONETARY                  2257\n",
       "FECHA_NACIMIENTO           120\n",
       "INDICE_FELICIDAD             1\n",
       "dtype: int64"
      ]
     },
     "execution_count": 7,
     "metadata": {},
     "output_type": "execute_result"
    }
   ],
   "source": [
    "df.isnull().sum()"
   ]
  },
  {
   "cell_type": "code",
   "execution_count": 8,
   "metadata": {},
   "outputs": [],
   "source": [
    "df['INDICE_FELICIDAD'] = df['INDICE_FELICIDAD'].fillna(2)"
   ]
  },
  {
   "cell_type": "code",
   "execution_count": 9,
   "metadata": {},
   "outputs": [],
   "source": [
    "#Eliminar filas con valores nulos \n",
    "df.dropna(inplace=True)"
   ]
  },
  {
   "cell_type": "code",
   "execution_count": 10,
   "metadata": {},
   "outputs": [],
   "source": [
    "#Calular la Edad\n",
    "df['EDAD'] = ((datetime.now() -df['FECHA_NACIMIENTO']).dt.days / 365).round(0).astype(\"int64\")"
   ]
  },
  {
   "cell_type": "code",
   "execution_count": 11,
   "metadata": {},
   "outputs": [],
   "source": [
    "df['DIAS_CON'] = (df['FECHA_PRIMERA_RECARGA']-df['FECHA_PRIMERA_RECARGA']).dt.days"
   ]
  },
  {
   "cell_type": "code",
   "execution_count": 12,
   "metadata": {},
   "outputs": [],
   "source": [
    "#Reclass variables\n",
    "df['PRODUCTO_PRINCIPAL'] = np.where(df['PRODUCTO_PRINCIPAL'] == 'Tinka', 1, \n",
    "                                            np.where(df['PRODUCTO_PRINCIPAL'] == 'Kabala', 2,\n",
    "                                            np.where(df['PRODUCTO_PRINCIPAL'] == 'Te Apuesto', 3,\n",
    "                                            np.where(df['PRODUCTO_PRINCIPAL'] == 'Casino', 4,\n",
    "                                            np.where(df['PRODUCTO_PRINCIPAL'] == 'Gana Diario', 5,\n",
    "                                            np.where(df['PRODUCTO_PRINCIPAL'] == 'Raspaya', 6,\n",
    "                                            np.where(df['PRODUCTO_PRINCIPAL'] == 'Kinelo', 7,\n",
    "                                            np.where(df['PRODUCTO_PRINCIPAL'] == 'Ganagol', 8,9))))))))\n",
    "\n",
    "# df['ESTADO_CLIENTE'] = np.where(df['ESTADO_CLIENTE'] == '4. No Activo',4,\n",
    "#                                         np.where(df['ESTADO_CLIENTE'] == '2. Recurrente',2,\n",
    "#                                         np.where(df['ESTADO_CLIENTE'] == '3. Esporadico',3,1)))\n",
    "\n",
    "df['FRECUENCY'] = np.where(df['FRECUENCY'] == '1. Permanente',1,\n",
    "                                   np.where(df['FRECUENCY'] == '1. Permanente',1,\n",
    "                                   np.where(df['FRECUENCY'] == '2. Intensivo',2,\n",
    "                                   np.where(df['FRECUENCY'] == '3. Frecuente',3,\n",
    "                                   np.where(df['FRECUENCY'] == '4. Habitual',4,5)))))\n",
    "\n",
    "df['MONETARY'] = np.where(df['MONETARY'] == '1. Muy Alto',1,\n",
    "                          np.where(df['MONETARY'] == '2. Alto', 2,\n",
    "                          np.where(df['MONETARY'] == '3. Medio', 3,\n",
    "                          np.where(df['MONETARY'] == '4. Bajo', 4,5))))\n",
    "\n",
    "df['RECENCY'] = np.where(df['RECENCY'] == '4. Perdido', 1, 0)\n",
    "\n",
    "df['INDICE_FELICIDAD'] = np.where(df['INDICE_FELICIDAD'] == 'No Feliz',0,np.where(df['INDICE_FELICIDAD'] == 2,2,1))"
   ]
  },
  {
   "cell_type": "code",
   "execution_count": 13,
   "metadata": {},
   "outputs": [],
   "source": [
    "df.set_index('ID_CLIENTE',inplace=True)"
   ]
  },
  {
   "cell_type": "code",
   "execution_count": 14,
   "metadata": {},
   "outputs": [
    {
     "data": {
      "text/html": [
       "<div>\n",
       "<style scoped>\n",
       "    .dataframe tbody tr th:only-of-type {\n",
       "        vertical-align: middle;\n",
       "    }\n",
       "\n",
       "    .dataframe tbody tr th {\n",
       "        vertical-align: top;\n",
       "    }\n",
       "\n",
       "    .dataframe thead th {\n",
       "        text-align: right;\n",
       "    }\n",
       "</style>\n",
       "<table border=\"1\" class=\"dataframe\">\n",
       "  <thead>\n",
       "    <tr style=\"text-align: right;\">\n",
       "      <th></th>\n",
       "      <th>CODMES</th>\n",
       "      <th>TOTAL_RECARGA</th>\n",
       "      <th>TOTAL_TRANSACCION</th>\n",
       "      <th>FECHA_PRIMERA_RECARGA</th>\n",
       "      <th>FECHA_ULTIMA_RECARGA</th>\n",
       "      <th>PRODUCTO_PRINCIPAL</th>\n",
       "      <th>FRECUENCY</th>\n",
       "      <th>RECENCY</th>\n",
       "      <th>MONETARY</th>\n",
       "      <th>FECHA_NACIMIENTO</th>\n",
       "      <th>INDICE_FELICIDAD</th>\n",
       "      <th>EDAD</th>\n",
       "      <th>DIAS_CON</th>\n",
       "    </tr>\n",
       "    <tr>\n",
       "      <th>ID_CLIENTE</th>\n",
       "      <th></th>\n",
       "      <th></th>\n",
       "      <th></th>\n",
       "      <th></th>\n",
       "      <th></th>\n",
       "      <th></th>\n",
       "      <th></th>\n",
       "      <th></th>\n",
       "      <th></th>\n",
       "      <th></th>\n",
       "      <th></th>\n",
       "      <th></th>\n",
       "      <th></th>\n",
       "    </tr>\n",
       "  </thead>\n",
       "  <tbody>\n",
       "    <tr>\n",
       "      <th>1353400.0</th>\n",
       "      <td>202304</td>\n",
       "      <td>30.0</td>\n",
       "      <td>1.0</td>\n",
       "      <td>2022-08-10</td>\n",
       "      <td>2022-08-10</td>\n",
       "      <td>1</td>\n",
       "      <td>5</td>\n",
       "      <td>1</td>\n",
       "      <td>5</td>\n",
       "      <td>1977-07-31</td>\n",
       "      <td>1</td>\n",
       "      <td>46</td>\n",
       "      <td>0</td>\n",
       "    </tr>\n",
       "    <tr>\n",
       "      <th>959710.0</th>\n",
       "      <td>202304</td>\n",
       "      <td>20.0</td>\n",
       "      <td>1.0</td>\n",
       "      <td>2022-12-02</td>\n",
       "      <td>2022-12-02</td>\n",
       "      <td>3</td>\n",
       "      <td>5</td>\n",
       "      <td>1</td>\n",
       "      <td>5</td>\n",
       "      <td>1977-07-27</td>\n",
       "      <td>1</td>\n",
       "      <td>46</td>\n",
       "      <td>0</td>\n",
       "    </tr>\n",
       "    <tr>\n",
       "      <th>1815598.0</th>\n",
       "      <td>202304</td>\n",
       "      <td>80.0</td>\n",
       "      <td>1.0</td>\n",
       "      <td>2022-07-18</td>\n",
       "      <td>2022-07-18</td>\n",
       "      <td>3</td>\n",
       "      <td>5</td>\n",
       "      <td>1</td>\n",
       "      <td>5</td>\n",
       "      <td>1981-10-21</td>\n",
       "      <td>1</td>\n",
       "      <td>42</td>\n",
       "      <td>0</td>\n",
       "    </tr>\n",
       "    <tr>\n",
       "      <th>2368223.0</th>\n",
       "      <td>202304</td>\n",
       "      <td>300.0</td>\n",
       "      <td>1.0</td>\n",
       "      <td>2022-12-30</td>\n",
       "      <td>2022-12-30</td>\n",
       "      <td>3</td>\n",
       "      <td>5</td>\n",
       "      <td>1</td>\n",
       "      <td>4</td>\n",
       "      <td>1990-06-06</td>\n",
       "      <td>1</td>\n",
       "      <td>33</td>\n",
       "      <td>0</td>\n",
       "    </tr>\n",
       "    <tr>\n",
       "      <th>1729181.0</th>\n",
       "      <td>202304</td>\n",
       "      <td>20.0</td>\n",
       "      <td>1.0</td>\n",
       "      <td>2022-06-04</td>\n",
       "      <td>2022-06-04</td>\n",
       "      <td>2</td>\n",
       "      <td>4</td>\n",
       "      <td>1</td>\n",
       "      <td>5</td>\n",
       "      <td>1984-03-13</td>\n",
       "      <td>1</td>\n",
       "      <td>39</td>\n",
       "      <td>0</td>\n",
       "    </tr>\n",
       "  </tbody>\n",
       "</table>\n",
       "</div>"
      ],
      "text/plain": [
       "            CODMES  TOTAL_RECARGA  TOTAL_TRANSACCION FECHA_PRIMERA_RECARGA  \\\n",
       "ID_CLIENTE                                                                   \n",
       "1353400.0   202304           30.0                1.0            2022-08-10   \n",
       "959710.0    202304           20.0                1.0            2022-12-02   \n",
       "1815598.0   202304           80.0                1.0            2022-07-18   \n",
       "2368223.0   202304          300.0                1.0            2022-12-30   \n",
       "1729181.0   202304           20.0                1.0            2022-06-04   \n",
       "\n",
       "           FECHA_ULTIMA_RECARGA  PRODUCTO_PRINCIPAL  FRECUENCY  RECENCY  \\\n",
       "ID_CLIENTE                                                                \n",
       "1353400.0            2022-08-10                   1          5        1   \n",
       "959710.0             2022-12-02                   3          5        1   \n",
       "1815598.0            2022-07-18                   3          5        1   \n",
       "2368223.0            2022-12-30                   3          5        1   \n",
       "1729181.0            2022-06-04                   2          4        1   \n",
       "\n",
       "            MONETARY FECHA_NACIMIENTO  INDICE_FELICIDAD  EDAD  DIAS_CON  \n",
       "ID_CLIENTE                                                               \n",
       "1353400.0          5       1977-07-31                 1    46         0  \n",
       "959710.0           5       1977-07-27                 1    46         0  \n",
       "1815598.0          5       1981-10-21                 1    42         0  \n",
       "2368223.0          4       1990-06-06                 1    33         0  \n",
       "1729181.0          5       1984-03-13                 1    39         0  "
      ]
     },
     "execution_count": 14,
     "metadata": {},
     "output_type": "execute_result"
    }
   ],
   "source": [
    "df.head()"
   ]
  },
  {
   "cell_type": "code",
   "execution_count": 15,
   "metadata": {},
   "outputs": [],
   "source": [
    "df2 = df.loc[:, ['TOTAL_RECARGA', 'TOTAL_TRANSACCION', 'PRODUCTO_PRINCIPAL',\n",
    "                'FRECUENCY', 'MONETARY', 'RECENCY', 'EDAD', 'DIAS_CON', 'INDICE_FELICIDAD']]"
   ]
  },
  {
   "cell_type": "code",
   "execution_count": 16,
   "metadata": {},
   "outputs": [
    {
     "data": {
      "text/plain": [
       "RECENCY\n",
       "0    196878\n",
       "1    260949\n",
       "Name: RECENCY, dtype: int64"
      ]
     },
     "execution_count": 16,
     "metadata": {},
     "output_type": "execute_result"
    }
   ],
   "source": [
    "df2.groupby('RECENCY')['RECENCY'].count()"
   ]
  },
  {
   "attachments": {},
   "cell_type": "markdown",
   "metadata": {},
   "source": [
    "## División en objetivo y variables"
   ]
  },
  {
   "cell_type": "code",
   "execution_count": 17,
   "metadata": {},
   "outputs": [],
   "source": [
    "X = df2.drop(['RECENCY'], axis=1)\n",
    "Y = df2['RECENCY']"
   ]
  },
  {
   "cell_type": "code",
   "execution_count": 18,
   "metadata": {},
   "outputs": [
    {
     "data": {
      "text/html": [
       "<div>\n",
       "<style scoped>\n",
       "    .dataframe tbody tr th:only-of-type {\n",
       "        vertical-align: middle;\n",
       "    }\n",
       "\n",
       "    .dataframe tbody tr th {\n",
       "        vertical-align: top;\n",
       "    }\n",
       "\n",
       "    .dataframe thead th {\n",
       "        text-align: right;\n",
       "    }\n",
       "</style>\n",
       "<table border=\"1\" class=\"dataframe\">\n",
       "  <thead>\n",
       "    <tr style=\"text-align: right;\">\n",
       "      <th></th>\n",
       "      <th>TOTAL_RECARGA</th>\n",
       "      <th>TOTAL_TRANSACCION</th>\n",
       "      <th>PRODUCTO_PRINCIPAL</th>\n",
       "      <th>FRECUENCY</th>\n",
       "      <th>MONETARY</th>\n",
       "      <th>EDAD</th>\n",
       "      <th>DIAS_CON</th>\n",
       "      <th>INDICE_FELICIDAD</th>\n",
       "    </tr>\n",
       "    <tr>\n",
       "      <th>ID_CLIENTE</th>\n",
       "      <th></th>\n",
       "      <th></th>\n",
       "      <th></th>\n",
       "      <th></th>\n",
       "      <th></th>\n",
       "      <th></th>\n",
       "      <th></th>\n",
       "      <th></th>\n",
       "    </tr>\n",
       "  </thead>\n",
       "  <tbody>\n",
       "    <tr>\n",
       "      <th>1353400.0</th>\n",
       "      <td>30.0</td>\n",
       "      <td>1.0</td>\n",
       "      <td>1</td>\n",
       "      <td>5</td>\n",
       "      <td>5</td>\n",
       "      <td>46</td>\n",
       "      <td>0</td>\n",
       "      <td>1</td>\n",
       "    </tr>\n",
       "    <tr>\n",
       "      <th>959710.0</th>\n",
       "      <td>20.0</td>\n",
       "      <td>1.0</td>\n",
       "      <td>3</td>\n",
       "      <td>5</td>\n",
       "      <td>5</td>\n",
       "      <td>46</td>\n",
       "      <td>0</td>\n",
       "      <td>1</td>\n",
       "    </tr>\n",
       "    <tr>\n",
       "      <th>1815598.0</th>\n",
       "      <td>80.0</td>\n",
       "      <td>1.0</td>\n",
       "      <td>3</td>\n",
       "      <td>5</td>\n",
       "      <td>5</td>\n",
       "      <td>42</td>\n",
       "      <td>0</td>\n",
       "      <td>1</td>\n",
       "    </tr>\n",
       "  </tbody>\n",
       "</table>\n",
       "</div>"
      ],
      "text/plain": [
       "            TOTAL_RECARGA  TOTAL_TRANSACCION  PRODUCTO_PRINCIPAL  FRECUENCY  \\\n",
       "ID_CLIENTE                                                                    \n",
       "1353400.0            30.0                1.0                   1          5   \n",
       "959710.0             20.0                1.0                   3          5   \n",
       "1815598.0            80.0                1.0                   3          5   \n",
       "\n",
       "            MONETARY  EDAD  DIAS_CON  INDICE_FELICIDAD  \n",
       "ID_CLIENTE                                              \n",
       "1353400.0          5    46         0                 1  \n",
       "959710.0           5    46         0                 1  \n",
       "1815598.0          5    42         0                 1  "
      ]
     },
     "execution_count": 18,
     "metadata": {},
     "output_type": "execute_result"
    }
   ],
   "source": [
    "X.head(3)"
   ]
  },
  {
   "cell_type": "code",
   "execution_count": 19,
   "metadata": {},
   "outputs": [
    {
     "data": {
      "text/plain": [
       "array([1, 0])"
      ]
     },
     "execution_count": 19,
     "metadata": {},
     "output_type": "execute_result"
    }
   ],
   "source": [
    "Y.unique()"
   ]
  },
  {
   "cell_type": "code",
   "execution_count": 20,
   "metadata": {},
   "outputs": [
    {
     "data": {
      "image/png": "[encoded data removed]",
      "text/plain": [
       "<Figure size 432x288 with 1 Axes>"
      ]
     },
     "metadata": {
      "needs_background": "light"
     },
     "output_type": "display_data"
    }
   ],
   "source": [
    "plt.hist(df2['RECENCY'].astype('str'))\n",
    "plt.show()"
   ]
  },
  {
   "attachments": {},
   "cell_type": "markdown",
   "metadata": {},
   "source": [
    "## Usando UBML"
   ]
  },
  {
   "cell_type": "code",
   "execution_count": 21,
   "metadata": {},
   "outputs": [
    {
     "name": "stdout",
     "output_type": "stream",
     "text": [
      "366261\n",
      "91566\n"
     ]
    }
   ],
   "source": [
    "from sklearn.model_selection import train_test_split\n",
    "X_train, X_test , Y_train, Y_test = train_test_split(X,Y, test_size=0.2, random_state=29)\n",
    "print(len(X_train))\n",
    "print(len(X_test))"
   ]
  },
  {
   "cell_type": "code",
   "execution_count": 52,
   "metadata": {},
   "outputs": [],
   "source": [
    "from ubml.train_test import classification_train_test\n",
    "metrics_performance, best_model = classification_train_test(x_train=X_train, x_test=X_test, y_train=Y_train, y_test=Y_test)\n",
    "print(best_model)\n",
    "metrics_performance\n"
   ]
  },
  {
   "cell_type": "code",
   "execution_count": 22,
   "metadata": {},
   "outputs": [
    {
     "data": {
      "text/html": [
       "<style>#sk-container-id-1 {color: black;background-color: white;}#sk-container-id-1 pre{padding: 0;}#sk-container-id-1 div.sk-toggleable {background-color: white;}#sk-container-id-1 label.sk-toggleable__label {cursor: pointer;display: block;width: 100%;margin-bottom: 0;padding: 0.3em;box-sizing: border-box;text-align: center;}#sk-container-id-1 label.sk-toggleable__label-arrow:before {content: \"▸\";float: left;margin-right: 0.25em;color: #696969;}#sk-container-id-1 label.sk-toggleable__label-arrow:hover:before {color: black;}#sk-container-id-1 div.sk-estimator:hover label.sk-toggleable__label-arrow:before {color: black;}#sk-container-id-1 div.sk-toggleable__content {max-height: 0;max-width: 0;overflow: hidden;text-align: left;background-color: #f0f8ff;}#sk-container-id-1 div.sk-toggleable__content pre {margin: 0.2em;color: black;border-radius: 0.25em;background-color: #f0f8ff;}#sk-container-id-1 input.sk-toggleable__control:checked~div.sk-toggleable__content {max-height: 200px;max-width: 100%;overflow: auto;}#sk-container-id-1 input.sk-toggleable__control:checked~label.sk-toggleable__label-arrow:before {content: \"▾\";}#sk-container-id-1 div.sk-estimator input.sk-toggleable__control:checked~label.sk-toggleable__label {background-color: #d4ebff;}#sk-container-id-1 div.sk-label input.sk-toggleable__control:checked~label.sk-toggleable__label {background-color: #d4ebff;}#sk-container-id-1 input.sk-hidden--visually {border: 0;clip: rect(1px 1px 1px 1px);clip: rect(1px, 1px, 1px, 1px);height: 1px;margin: -1px;overflow: hidden;padding: 0;position: absolute;width: 1px;}#sk-container-id-1 div.sk-estimator {font-family: monospace;background-color: #f0f8ff;border: 1px dotted black;border-radius: 0.25em;box-sizing: border-box;margin-bottom: 0.5em;}#sk-container-id-1 div.sk-estimator:hover {background-color: #d4ebff;}#sk-container-id-1 div.sk-parallel-item::after {content: \"\";width: 100%;border-bottom: 1px solid gray;flex-grow: 1;}#sk-container-id-1 div.sk-label:hover label.sk-toggleable__label {background-color: #d4ebff;}#sk-container-id-1 div.sk-serial::before {content: \"\";position: absolute;border-left: 1px solid gray;box-sizing: border-box;top: 0;bottom: 0;left: 50%;z-index: 0;}#sk-container-id-1 div.sk-serial {display: flex;flex-direction: column;align-items: center;background-color: white;padding-right: 0.2em;padding-left: 0.2em;position: relative;}#sk-container-id-1 div.sk-item {position: relative;z-index: 1;}#sk-container-id-1 div.sk-parallel {display: flex;align-items: stretch;justify-content: center;background-color: white;position: relative;}#sk-container-id-1 div.sk-item::before, #sk-container-id-1 div.sk-parallel-item::before {content: \"\";position: absolute;border-left: 1px solid gray;box-sizing: border-box;top: 0;bottom: 0;left: 50%;z-index: -1;}#sk-container-id-1 div.sk-parallel-item {display: flex;flex-direction: column;z-index: 1;position: relative;background-color: white;}#sk-container-id-1 div.sk-parallel-item:first-child::after {align-self: flex-end;width: 50%;}#sk-container-id-1 div.sk-parallel-item:last-child::after {align-self: flex-start;width: 50%;}#sk-container-id-1 div.sk-parallel-item:only-child::after {width: 0;}#sk-container-id-1 div.sk-dashed-wrapped {border: 1px dashed gray;margin: 0 0.4em 0.5em 0.4em;box-sizing: border-box;padding-bottom: 0.4em;background-color: white;}#sk-container-id-1 div.sk-label label {font-family: monospace;font-weight: bold;display: inline-block;line-height: 1.2em;}#sk-container-id-1 div.sk-label-container {text-align: center;}#sk-container-id-1 div.sk-container {/* jupyter's `normalize.less` sets `[hidden] { display: none; }` but bootstrap.min.css set `[hidden] { display: none !important; }` so we also need the `!important` here to be able to override the default hidden behavior on the sphinx rendered scikit-learn.org. See: https://github.com/scikit-learn/scikit-learn/issues/21755 */display: inline-block !important;position: relative;}#sk-container-id-1 div.sk-text-repr-fallback {display: none;}</style><div id=\"sk-container-id-1\" class=\"sk-top-container\"><div class=\"sk-text-repr-fallback\"><pre>LogisticRegression()</pre><b>In a Jupyter environment, please rerun this cell to show the HTML representation or trust the notebook. <br />On GitHub, the HTML representation is unable to render, please try loading this page with nbviewer.org.</b></div><div class=\"sk-container\" hidden><div class=\"sk-item\"><div class=\"sk-estimator sk-toggleable\"><input class=\"sk-toggleable__control sk-hidden--visually\" id=\"sk-estimator-id-1\" type=\"checkbox\" checked><label for=\"sk-estimator-id-1\" class=\"sk-toggleable__label sk-toggleable__label-arrow\">LogisticRegression</label><div class=\"sk-toggleable__content\"><pre>LogisticRegression()</pre></div></div></div></div></div>"
      ],
      "text/plain": [
       "LogisticRegression()"
      ]
     },
     "execution_count": 22,
     "metadata": {},
     "output_type": "execute_result"
    }
   ],
   "source": [
    "from sklearn.linear_model import LogisticRegression\n",
    "\n",
    "lr = LogisticRegression()\n",
    "lr.fit(X_train, Y_train)\n"
   ]
  },
  {
   "cell_type": "code",
   "execution_count": 23,
   "metadata": {},
   "outputs": [
    {
     "data": {
      "text/plain": [
       "['tinka_model_lr2.pkl']"
      ]
     },
     "execution_count": 23,
     "metadata": {},
     "output_type": "execute_result"
    }
   ],
   "source": [
    "## Exportar el modelo \n",
    "import joblib\n",
    "joblib.dump(lr,\"tinka_model_lr2.pkl\")"
   ]
  },
  {
   "cell_type": "code",
   "execution_count": 24,
   "metadata": {},
   "outputs": [
    {
     "name": "stdout",
     "output_type": "stream",
     "text": [
      "[1 1 1 ... 1 1 1]\n"
     ]
    }
   ],
   "source": [
    "Y_predic = lr.predict(X_test)\n",
    "print(Y_predic)\n"
   ]
  },
  {
   "cell_type": "code",
   "execution_count": 25,
   "metadata": {},
   "outputs": [
    {
     "name": "stdout",
     "output_type": "stream",
     "text": [
      "[[0.32489051 0.67510949]\n",
      " [0.34906583 0.65093417]\n",
      " [0.20520682 0.79479318]\n",
      " ...\n",
      " [0.34987243 0.65012757]\n",
      " [0.28801463 0.71198537]\n",
      " [0.32733368 0.67266632]]\n"
     ]
    }
   ],
   "source": [
    "prob_test_data = lr.predict_proba(X_test)\n",
    "print(prob_test_data)"
   ]
  },
  {
   "cell_type": "code",
   "execution_count": 26,
   "metadata": {},
   "outputs": [
    {
     "data": {
      "text/plain": [
       "91566"
      ]
     },
     "execution_count": 26,
     "metadata": {},
     "output_type": "execute_result"
    }
   ],
   "source": [
    "len(X_test)\n"
   ]
  },
  {
   "cell_type": "code",
   "execution_count": 27,
   "metadata": {},
   "outputs": [
    {
     "data": {
      "text/plain": [
       "91566"
      ]
     },
     "execution_count": 27,
     "metadata": {},
     "output_type": "execute_result"
    }
   ],
   "source": [
    "len(Y_predic)\n"
   ]
  },
  {
   "cell_type": "code",
   "execution_count": 28,
   "metadata": {},
   "outputs": [
    {
     "data": {
      "image/png": "[encoded data removed]",
      "text/plain": [
       "<Figure size 288x288 with 2 Axes>"
      ]
     },
     "metadata": {
      "needs_background": "light"
     },
     "output_type": "display_data"
    }
   ],
   "source": [
    "#Matriz de confusion \n",
    "from sklearn.metrics import confusion_matrix\n",
    "import pylab as pl\n",
    "cm = confusion_matrix(Y_test, Y_predic)\n",
    "pl.matshow(cm)\n",
    "pl.title('Matriz de Confusión')\n",
    "pl.colorbar()\n",
    "pl.show()\n"
   ]
  },
  {
   "cell_type": "code",
   "execution_count": 30,
   "metadata": {},
   "outputs": [
    {
     "name": "stdout",
     "output_type": "stream",
     "text": [
      "[[13435 26098]\n",
      " [ 6231 45802]]\n"
     ]
    }
   ],
   "source": [
    "from sklearn.metrics import confusion_matrix\n",
    "# y_pred = clf.predict(X_test)\n",
    "cm = confusion_matrix(Y_test, Y_predic)\n",
    "print(cm)\n"
   ]
  },
  {
   "cell_type": "code",
   "execution_count": 31,
   "metadata": {},
   "outputs": [
    {
     "name": "stdout",
     "output_type": "stream",
     "text": [
      "              precision    recall  f1-score   support\n",
      "\n",
      "           0       0.68      0.34      0.45     39533\n",
      "           1       0.64      0.88      0.74     52033\n",
      "\n",
      "    accuracy                           0.65     91566\n",
      "   macro avg       0.66      0.61      0.60     91566\n",
      "weighted avg       0.66      0.65      0.62     91566\n",
      "\n"
     ]
    }
   ],
   "source": [
    "from sklearn.metrics import classification_report\n",
    "print(classification_report(Y_test, Y_predic))"
   ]
  },
  {
   "attachments": {},
   "cell_type": "markdown",
   "metadata": {},
   "source": [
    "# 3. Predicción"
   ]
  },
  {
   "cell_type": "code",
   "execution_count": 7,
   "metadata": {},
   "outputs": [],
   "source": [
    "#Importar el modelo \n",
    "import joblib\n",
    "model = joblib.load(\"tinka_model_lr2.pkl\")"
   ]
  },
  {
   "cell_type": "code",
   "execution_count": 10,
   "metadata": {},
   "outputs": [],
   "source": [
    "#Conexión database\n",
    "conn1 = pyodbc.connect(DRIVER='{ODBC Driver 17 for SQL Server}',\n",
    "                      SERVER='dblatinkadwh.database.windows.net',\n",
    "                      DATABASE='DWH_LaTinka',\n",
    "                      UID='sandra.sanchez',\n",
    "                      PWD='Latinka01*')"
   ]
  },
  {
   "cell_type": "code",
   "execution_count": 11,
   "metadata": {},
   "outputs": [],
   "source": [
    "# No se tomó en cuenta los datos con target null\n",
    "q1 = \"\"\"SELECT *\n",
    "        FROM EDS.TABLON_VARIABLE_FUGA \"\"\"\n",
    "df2 = pd.read_sql_query(q1, conn1)\n",
    "\n",
    "#Cerrar conexión\n",
    "conn1.close()\n"
   ]
  },
  {
   "cell_type": "code",
   "execution_count": 12,
   "metadata": {},
   "outputs": [
    {
     "data": {
      "text/html": [
       "<div>\n",
       "<style scoped>\n",
       "    .dataframe tbody tr th:only-of-type {\n",
       "        vertical-align: middle;\n",
       "    }\n",
       "\n",
       "    .dataframe tbody tr th {\n",
       "        vertical-align: top;\n",
       "    }\n",
       "\n",
       "    .dataframe thead th {\n",
       "        text-align: right;\n",
       "    }\n",
       "</style>\n",
       "<table border=\"1\" class=\"dataframe\">\n",
       "  <thead>\n",
       "    <tr style=\"text-align: right;\">\n",
       "      <th></th>\n",
       "      <th>CODMES</th>\n",
       "      <th>ID_CLIENTE</th>\n",
       "      <th>TOTAL_RECARGA</th>\n",
       "      <th>TOTAL_TRANSACCION</th>\n",
       "      <th>FECHA_PRIMERA_RECARGA</th>\n",
       "      <th>FECHA_ULTIMA_RECARGA</th>\n",
       "      <th>PRODUCTO_PRINCIPAL</th>\n",
       "      <th>FRECUENCY</th>\n",
       "      <th>RECENCY</th>\n",
       "      <th>MONETARY</th>\n",
       "      <th>FECHA_NACIMIENTO</th>\n",
       "      <th>INDICE_FELICIDAD</th>\n",
       "    </tr>\n",
       "  </thead>\n",
       "  <tbody>\n",
       "    <tr>\n",
       "      <th>0</th>\n",
       "      <td>202301</td>\n",
       "      <td>1870460.0</td>\n",
       "      <td>20.00</td>\n",
       "      <td>1.0</td>\n",
       "      <td>2022-11-30</td>\n",
       "      <td>2022-11-30</td>\n",
       "      <td>Te Apuesto</td>\n",
       "      <td>5. Ocasional</td>\n",
       "      <td>4. Perdido</td>\n",
       "      <td>5. Muy Bajo</td>\n",
       "      <td>1997-03-25</td>\n",
       "      <td>0.0</td>\n",
       "    </tr>\n",
       "    <tr>\n",
       "      <th>1</th>\n",
       "      <td>202301</td>\n",
       "      <td>2031003.0</td>\n",
       "      <td>64.00</td>\n",
       "      <td>3.0</td>\n",
       "      <td>2022-11-19</td>\n",
       "      <td>2022-11-24</td>\n",
       "      <td>Te Apuesto</td>\n",
       "      <td>3. Frecuente</td>\n",
       "      <td>4. Perdido</td>\n",
       "      <td>5. Muy Bajo</td>\n",
       "      <td>1990-05-25</td>\n",
       "      <td>0.0</td>\n",
       "    </tr>\n",
       "    <tr>\n",
       "      <th>2</th>\n",
       "      <td>202301</td>\n",
       "      <td>1861970.0</td>\n",
       "      <td>45.00</td>\n",
       "      <td>2.0</td>\n",
       "      <td>2022-08-16</td>\n",
       "      <td>2022-12-03</td>\n",
       "      <td>Te Apuesto</td>\n",
       "      <td>4. Habitual</td>\n",
       "      <td>3. Dormido 2</td>\n",
       "      <td>5. Muy Bajo</td>\n",
       "      <td>1995-06-17</td>\n",
       "      <td>1.0</td>\n",
       "    </tr>\n",
       "    <tr>\n",
       "      <th>3</th>\n",
       "      <td>202301</td>\n",
       "      <td>839610.0</td>\n",
       "      <td>18.67</td>\n",
       "      <td>1.0</td>\n",
       "      <td>2022-07-07</td>\n",
       "      <td>2023-01-11</td>\n",
       "      <td>Tinka</td>\n",
       "      <td>5. Ocasional</td>\n",
       "      <td>2. Dormido 1</td>\n",
       "      <td>5. Muy Bajo</td>\n",
       "      <td>1986-12-24</td>\n",
       "      <td>0.0</td>\n",
       "    </tr>\n",
       "    <tr>\n",
       "      <th>4</th>\n",
       "      <td>202301</td>\n",
       "      <td>2153536.0</td>\n",
       "      <td>44.00</td>\n",
       "      <td>1.0</td>\n",
       "      <td>2022-12-13</td>\n",
       "      <td>2022-12-13</td>\n",
       "      <td>Te Apuesto</td>\n",
       "      <td>4. Habitual</td>\n",
       "      <td>3. Dormido 2</td>\n",
       "      <td>5. Muy Bajo</td>\n",
       "      <td>2001-07-01</td>\n",
       "      <td>0.0</td>\n",
       "    </tr>\n",
       "    <tr>\n",
       "      <th>...</th>\n",
       "      <td>...</td>\n",
       "      <td>...</td>\n",
       "      <td>...</td>\n",
       "      <td>...</td>\n",
       "      <td>...</td>\n",
       "      <td>...</td>\n",
       "      <td>...</td>\n",
       "      <td>...</td>\n",
       "      <td>...</td>\n",
       "      <td>...</td>\n",
       "      <td>...</td>\n",
       "      <td>...</td>\n",
       "    </tr>\n",
       "    <tr>\n",
       "      <th>5437735</th>\n",
       "      <td>202304</td>\n",
       "      <td>857247.0</td>\n",
       "      <td>20.00</td>\n",
       "      <td>1.0</td>\n",
       "      <td>2022-05-05</td>\n",
       "      <td>2022-05-05</td>\n",
       "      <td>Te Apuesto</td>\n",
       "      <td>3. Frecuente</td>\n",
       "      <td>4. Perdido</td>\n",
       "      <td>5. Muy Bajo</td>\n",
       "      <td>1996-05-09</td>\n",
       "      <td>1.0</td>\n",
       "    </tr>\n",
       "    <tr>\n",
       "      <th>5437736</th>\n",
       "      <td>202304</td>\n",
       "      <td>1950088.0</td>\n",
       "      <td>20.00</td>\n",
       "      <td>1.0</td>\n",
       "      <td>2022-10-14</td>\n",
       "      <td>2022-10-14</td>\n",
       "      <td>Tinka</td>\n",
       "      <td>4. Habitual</td>\n",
       "      <td>4. Perdido</td>\n",
       "      <td>5. Muy Bajo</td>\n",
       "      <td>1993-10-26</td>\n",
       "      <td>0.0</td>\n",
       "    </tr>\n",
       "    <tr>\n",
       "      <th>5437737</th>\n",
       "      <td>202304</td>\n",
       "      <td>681724.0</td>\n",
       "      <td>50.00</td>\n",
       "      <td>1.0</td>\n",
       "      <td>2022-05-17</td>\n",
       "      <td>2022-05-17</td>\n",
       "      <td>Raspaya</td>\n",
       "      <td>5. Ocasional</td>\n",
       "      <td>4. Perdido</td>\n",
       "      <td>5. Muy Bajo</td>\n",
       "      <td>1982-03-17</td>\n",
       "      <td>0.0</td>\n",
       "    </tr>\n",
       "    <tr>\n",
       "      <th>5437738</th>\n",
       "      <td>202304</td>\n",
       "      <td>1277514.0</td>\n",
       "      <td>288.00</td>\n",
       "      <td>1.0</td>\n",
       "      <td>2022-10-23</td>\n",
       "      <td>2022-10-23</td>\n",
       "      <td>Tinka</td>\n",
       "      <td>5. Ocasional</td>\n",
       "      <td>4. Perdido</td>\n",
       "      <td>4. Bajo</td>\n",
       "      <td>1997-08-14</td>\n",
       "      <td>0.0</td>\n",
       "    </tr>\n",
       "    <tr>\n",
       "      <th>5437739</th>\n",
       "      <td>202304</td>\n",
       "      <td>2534328.0</td>\n",
       "      <td>100.00</td>\n",
       "      <td>1.0</td>\n",
       "      <td>2023-04-22</td>\n",
       "      <td>2023-04-22</td>\n",
       "      <td>Te Apuesto</td>\n",
       "      <td>5. Ocasional</td>\n",
       "      <td>2. Dormido 1</td>\n",
       "      <td>5. Muy Bajo</td>\n",
       "      <td>1980-02-04</td>\n",
       "      <td>0.0</td>\n",
       "    </tr>\n",
       "  </tbody>\n",
       "</table>\n",
       "<p>5437740 rows × 12 columns</p>\n",
       "</div>"
      ],
      "text/plain": [
       "         CODMES  ID_CLIENTE  TOTAL_RECARGA  TOTAL_TRANSACCION  \\\n",
       "0        202301   1870460.0          20.00                1.0   \n",
       "1        202301   2031003.0          64.00                3.0   \n",
       "2        202301   1861970.0          45.00                2.0   \n",
       "3        202301    839610.0          18.67                1.0   \n",
       "4        202301   2153536.0          44.00                1.0   \n",
       "...         ...         ...            ...                ...   \n",
       "5437735  202304    857247.0          20.00                1.0   \n",
       "5437736  202304   1950088.0          20.00                1.0   \n",
       "5437737  202304    681724.0          50.00                1.0   \n",
       "5437738  202304   1277514.0         288.00                1.0   \n",
       "5437739  202304   2534328.0         100.00                1.0   \n",
       "\n",
       "        FECHA_PRIMERA_RECARGA FECHA_ULTIMA_RECARGA PRODUCTO_PRINCIPAL  \\\n",
       "0                  2022-11-30           2022-11-30         Te Apuesto   \n",
       "1                  2022-11-19           2022-11-24         Te Apuesto   \n",
       "2                  2022-08-16           2022-12-03         Te Apuesto   \n",
       "3                  2022-07-07           2023-01-11              Tinka   \n",
       "4                  2022-12-13           2022-12-13         Te Apuesto   \n",
       "...                       ...                  ...                ...   \n",
       "5437735            2022-05-05           2022-05-05         Te Apuesto   \n",
       "5437736            2022-10-14           2022-10-14              Tinka   \n",
       "5437737            2022-05-17           2022-05-17            Raspaya   \n",
       "5437738            2022-10-23           2022-10-23              Tinka   \n",
       "5437739            2023-04-22           2023-04-22         Te Apuesto   \n",
       "\n",
       "            FRECUENCY       RECENCY     MONETARY FECHA_NACIMIENTO  \\\n",
       "0        5. Ocasional    4. Perdido  5. Muy Bajo       1997-03-25   \n",
       "1        3. Frecuente    4. Perdido  5. Muy Bajo       1990-05-25   \n",
       "2         4. Habitual  3. Dormido 2  5. Muy Bajo       1995-06-17   \n",
       "3        5. Ocasional  2. Dormido 1  5. Muy Bajo       1986-12-24   \n",
       "4         4. Habitual  3. Dormido 2  5. Muy Bajo       2001-07-01   \n",
       "...               ...           ...          ...              ...   \n",
       "5437735  3. Frecuente    4. Perdido  5. Muy Bajo       1996-05-09   \n",
       "5437736   4. Habitual    4. Perdido  5. Muy Bajo       1993-10-26   \n",
       "5437737  5. Ocasional    4. Perdido  5. Muy Bajo       1982-03-17   \n",
       "5437738  5. Ocasional    4. Perdido      4. Bajo       1997-08-14   \n",
       "5437739  5. Ocasional  2. Dormido 1  5. Muy Bajo       1980-02-04   \n",
       "\n",
       "         INDICE_FELICIDAD  \n",
       "0                     0.0  \n",
       "1                     0.0  \n",
       "2                     1.0  \n",
       "3                     0.0  \n",
       "4                     0.0  \n",
       "...                   ...  \n",
       "5437735               1.0  \n",
       "5437736               0.0  \n",
       "5437737               0.0  \n",
       "5437738               0.0  \n",
       "5437739               0.0  \n",
       "\n",
       "[5437740 rows x 12 columns]"
      ]
     },
     "execution_count": 12,
     "metadata": {},
     "output_type": "execute_result"
    }
   ],
   "source": [
    "df2"
   ]
  },
  {
   "cell_type": "code",
   "execution_count": 13,
   "metadata": {},
   "outputs": [],
   "source": [
    "df2 = df2.rename(columns={'TOTAL_TRANSACCION':'TOTAL_TRANSACCION_RECARGA','FECHA_PRIMERA_RECARGA':'FECHA_PRIMERA_ACCION','FECHA_ULTIMA_RECARGA':'FECHA_ULTIMA_ACCION','INDICE_FELICIDAD':'FLG_FELICIDAD'})"
   ]
  },
  {
   "cell_type": "code",
   "execution_count": 14,
   "metadata": {},
   "outputs": [],
   "source": [
    "#Conversion de String a datetime\n",
    "#df2['FECHA_ALTA_SISTEMA'] = pd.to_datetime(df2['FECHA_ALTA_SISTEMA'], format = \"%Y-%m-%d\")\n",
    "df2['FECHA_NACIMIENTO'] = pd.to_datetime(df2['FECHA_NACIMIENTO'], format = \"%Y-%m-%d\",errors='coerce')\n",
    "df2['FECHA_PRIMERA_ACCION'] = pd.to_datetime(df2['FECHA_PRIMERA_ACCION'], format=\"%Y-%m-%d\",errors='coerce')\n",
    "df2['FECHA_ULTIMA_ACCION'] = pd.to_datetime(df2['FECHA_ULTIMA_ACCION'], format = \"%Y-%m-%d\",errors='coerce')"
   ]
  },
  {
   "cell_type": "code",
   "execution_count": 15,
   "metadata": {},
   "outputs": [],
   "source": [
    "# Eliminar filas con valores nulos\n",
    "df2.dropna(inplace=True)\n",
    "\n",
    "\n",
    "# Calular la Edad\n",
    "# Calular la Edad\n",
    "df2['EDAD'] = ((datetime.now() - df2['FECHA_NACIMIENTO']).dt.days / 365).round(0).astype(\"int64\")\n",
    "\n",
    "df2['DIAS_CON'] = (df2['FECHA_ULTIMA_ACCION']-df2['FECHA_PRIMERA_ACCION']).dt.days\n"
   ]
  },
  {
   "cell_type": "code",
   "execution_count": 16,
   "metadata": {},
   "outputs": [],
   "source": [
    "\n",
    "# Reclass variables\n",
    "df2['PRODUCTO_PRINCIPAL'] = np.where(df2['PRODUCTO_PRINCIPAL'] == 'Tinka', 1,\n",
    "                                    np.where(df2['PRODUCTO_PRINCIPAL'] == 'Kabala', 2,\n",
    "                                             np.where(df2['PRODUCTO_PRINCIPAL'] == 'Te Apuesto', 3,\n",
    "                                                      np.where(df2['PRODUCTO_PRINCIPAL'] == 'Casino', 4,\n",
    "                                                               np.where(df2['PRODUCTO_PRINCIPAL'] == 'Gana Diario', 5,\n",
    "                                                                        np.where(df2['PRODUCTO_PRINCIPAL'] == 'Raspaya', 6,\n",
    "                                                                                 np.where(df2['PRODUCTO_PRINCIPAL'] == 'Kinelo', 7,\n",
    "                                                                                          np.where(df2['PRODUCTO_PRINCIPAL'] == 'Ganagol', 8, 9))))))))\n",
    "\n",
    "#df2['ESTADO_CLIENTE'] = np.where(df2['ESTADO_CLIENTE'] == '4. No Activo', 4,\n",
    "#                                np.where(df2['ESTADO_CLIENTE'] == '2. Recurrente', 2,\n",
    "#                                         np.where(df2['ESTADO_CLIENTE'] == '3. Esporadico', 3, 1)))\n",
    "\n",
    "df2['FRECUENCY'] = np.where(df2['FRECUENCY'] == '1. Permanente', 1,\n",
    "                           np.where(df2['FRECUENCY'] == '1. Permanente', 1,\n",
    "                                    np.where(df2['FRECUENCY'] == '2. Intensivo', 2,\n",
    "                                             np.where(df2['FRECUENCY'] == '3. Frecuente', 3,\n",
    "                                                      np.where(df2['FRECUENCY'] == '4. Habitual', 4, 5)))))\n",
    "\n",
    "df2['MONETARY'] = np.where(df2['MONETARY'] == '1. Muy Alto', 1,\n",
    "                          np.where(df2['MONETARY'] == '2. Alto', 2,\n",
    "                          np.where(df2['MONETARY'] == '3. Medio', 3,\n",
    "                                   np.where(df2['MONETARY'] == '4. Bajo', 4, 5))))\n",
    "\n",
    "df2['RECENCY'] = np.where(df2['RECENCY'] == '4. Perdido', 1, 0)\n",
    "\n",
    "df2['FLG_FELICIDAD'] = np.where(df2['FLG_FELICIDAD'] == 'No Feliz', 0, np.where(df2['FLG_FELICIDAD'] == 2, 2, 1))\n"
   ]
  },
  {
   "cell_type": "code",
   "execution_count": 17,
   "metadata": {},
   "outputs": [],
   "source": [
    "df3 = df2.loc[:,['ID_CLIENTE','TOTAL_RECARGA', 'TOTAL_TRANSACCION_RECARGA','PRODUCTO_PRINCIPAL', 'FRECUENCY', 'MONETARY', 'RECENCY', 'EDAD', 'DIAS_CON', 'FLG_FELICIDAD']]"
   ]
  },
  {
   "cell_type": "code",
   "execution_count": 18,
   "metadata": {},
   "outputs": [],
   "source": [
    "X_2023 = df3.drop(columns=['ID_CLIENTE','RECENCY'], axis=1)"
   ]
  },
  {
   "cell_type": "code",
   "execution_count": 19,
   "metadata": {},
   "outputs": [
    {
     "data": {
      "text/html": [
       "<div>\n",
       "<style scoped>\n",
       "    .dataframe tbody tr th:only-of-type {\n",
       "        vertical-align: middle;\n",
       "    }\n",
       "\n",
       "    .dataframe tbody tr th {\n",
       "        vertical-align: top;\n",
       "    }\n",
       "\n",
       "    .dataframe thead th {\n",
       "        text-align: right;\n",
       "    }\n",
       "</style>\n",
       "<table border=\"1\" class=\"dataframe\">\n",
       "  <thead>\n",
       "    <tr style=\"text-align: right;\">\n",
       "      <th></th>\n",
       "      <th>TOTAL_RECARGA</th>\n",
       "      <th>TOTAL_TRANSACCION_RECARGA</th>\n",
       "      <th>PRODUCTO_PRINCIPAL</th>\n",
       "      <th>FRECUENCY</th>\n",
       "      <th>MONETARY</th>\n",
       "      <th>EDAD</th>\n",
       "      <th>DIAS_CON</th>\n",
       "      <th>FLG_FELICIDAD</th>\n",
       "    </tr>\n",
       "  </thead>\n",
       "  <tbody>\n",
       "    <tr>\n",
       "      <th>0</th>\n",
       "      <td>20.00</td>\n",
       "      <td>1.0</td>\n",
       "      <td>3</td>\n",
       "      <td>5</td>\n",
       "      <td>5</td>\n",
       "      <td>26</td>\n",
       "      <td>0</td>\n",
       "      <td>1</td>\n",
       "    </tr>\n",
       "    <tr>\n",
       "      <th>1</th>\n",
       "      <td>64.00</td>\n",
       "      <td>3.0</td>\n",
       "      <td>3</td>\n",
       "      <td>3</td>\n",
       "      <td>5</td>\n",
       "      <td>33</td>\n",
       "      <td>5</td>\n",
       "      <td>1</td>\n",
       "    </tr>\n",
       "    <tr>\n",
       "      <th>2</th>\n",
       "      <td>45.00</td>\n",
       "      <td>2.0</td>\n",
       "      <td>3</td>\n",
       "      <td>4</td>\n",
       "      <td>5</td>\n",
       "      <td>28</td>\n",
       "      <td>109</td>\n",
       "      <td>1</td>\n",
       "    </tr>\n",
       "    <tr>\n",
       "      <th>3</th>\n",
       "      <td>18.67</td>\n",
       "      <td>1.0</td>\n",
       "      <td>1</td>\n",
       "      <td>5</td>\n",
       "      <td>5</td>\n",
       "      <td>36</td>\n",
       "      <td>188</td>\n",
       "      <td>1</td>\n",
       "    </tr>\n",
       "    <tr>\n",
       "      <th>4</th>\n",
       "      <td>44.00</td>\n",
       "      <td>1.0</td>\n",
       "      <td>3</td>\n",
       "      <td>4</td>\n",
       "      <td>5</td>\n",
       "      <td>22</td>\n",
       "      <td>0</td>\n",
       "      <td>1</td>\n",
       "    </tr>\n",
       "  </tbody>\n",
       "</table>\n",
       "</div>"
      ],
      "text/plain": [
       "   TOTAL_RECARGA  TOTAL_TRANSACCION_RECARGA  PRODUCTO_PRINCIPAL  FRECUENCY  \\\n",
       "0          20.00                        1.0                   3          5   \n",
       "1          64.00                        3.0                   3          3   \n",
       "2          45.00                        2.0                   3          4   \n",
       "3          18.67                        1.0                   1          5   \n",
       "4          44.00                        1.0                   3          4   \n",
       "\n",
       "   MONETARY  EDAD  DIAS_CON  FLG_FELICIDAD  \n",
       "0         5    26         0              1  \n",
       "1         5    33         5              1  \n",
       "2         5    28       109              1  \n",
       "3         5    36       188              1  \n",
       "4         5    22         0              1  "
      ]
     },
     "execution_count": 19,
     "metadata": {},
     "output_type": "execute_result"
    }
   ],
   "source": [
    "X_2023.head()"
   ]
  },
  {
   "cell_type": "code",
   "execution_count": 20,
   "metadata": {},
   "outputs": [],
   "source": [
    "Y_predict_2023 = model.predict(X_2023)\n",
    "Y_predict_prob_2023 = model.predict_proba(X_2023)\n"
   ]
  },
  {
   "cell_type": "code",
   "execution_count": 21,
   "metadata": {},
   "outputs": [
    {
     "data": {
      "text/plain": [
       "4945976"
      ]
     },
     "execution_count": 21,
     "metadata": {},
     "output_type": "execute_result"
    }
   ],
   "source": [
    "len(Y_predict_2023)"
   ]
  },
  {
   "cell_type": "code",
   "execution_count": 22,
   "metadata": {},
   "outputs": [
    {
     "data": {
      "text/plain": [
       "array([0.33738974, 0.5901071 , 0.45992045, ..., 0.27860106, 0.34405107,\n",
       "       0.35057218])"
      ]
     },
     "execution_count": 22,
     "metadata": {},
     "output_type": "execute_result"
    }
   ],
   "source": [
    "Y_predict_prob_2023[:,0]"
   ]
  },
  {
   "cell_type": "code",
   "execution_count": 23,
   "metadata": {},
   "outputs": [],
   "source": [
    "#Probabilidad de no activo = PROB_REG_LOG\n",
    "#no activo = 0 , Activo = 1\n",
    "df3['REG_LOG'] = Y_predict_2023\n",
    "df3['PROB_REG_LOG'] = (Y_predict_prob_2023[:,0]).round(2)"
   ]
  },
  {
   "cell_type": "code",
   "execution_count": 24,
   "metadata": {},
   "outputs": [
    {
     "data": {
      "text/html": [
       "<div>\n",
       "<style scoped>\n",
       "    .dataframe tbody tr th:only-of-type {\n",
       "        vertical-align: middle;\n",
       "    }\n",
       "\n",
       "    .dataframe tbody tr th {\n",
       "        vertical-align: top;\n",
       "    }\n",
       "\n",
       "    .dataframe thead th {\n",
       "        text-align: right;\n",
       "    }\n",
       "</style>\n",
       "<table border=\"1\" class=\"dataframe\">\n",
       "  <thead>\n",
       "    <tr style=\"text-align: right;\">\n",
       "      <th></th>\n",
       "      <th>ID_CLIENTE</th>\n",
       "      <th>TOTAL_RECARGA</th>\n",
       "      <th>TOTAL_TRANSACCION_RECARGA</th>\n",
       "      <th>PRODUCTO_PRINCIPAL</th>\n",
       "      <th>FRECUENCY</th>\n",
       "      <th>MONETARY</th>\n",
       "      <th>RECENCY</th>\n",
       "      <th>EDAD</th>\n",
       "      <th>DIAS_CON</th>\n",
       "      <th>FLG_FELICIDAD</th>\n",
       "      <th>REG_LOG</th>\n",
       "      <th>PROB_REG_LOG</th>\n",
       "    </tr>\n",
       "  </thead>\n",
       "  <tbody>\n",
       "    <tr>\n",
       "      <th>0</th>\n",
       "      <td>1870460.0</td>\n",
       "      <td>20.00</td>\n",
       "      <td>1.0</td>\n",
       "      <td>3</td>\n",
       "      <td>5</td>\n",
       "      <td>5</td>\n",
       "      <td>1</td>\n",
       "      <td>26</td>\n",
       "      <td>0</td>\n",
       "      <td>1</td>\n",
       "      <td>1</td>\n",
       "      <td>0.34</td>\n",
       "    </tr>\n",
       "    <tr>\n",
       "      <th>1</th>\n",
       "      <td>2031003.0</td>\n",
       "      <td>64.00</td>\n",
       "      <td>3.0</td>\n",
       "      <td>3</td>\n",
       "      <td>3</td>\n",
       "      <td>5</td>\n",
       "      <td>1</td>\n",
       "      <td>33</td>\n",
       "      <td>5</td>\n",
       "      <td>1</td>\n",
       "      <td>0</td>\n",
       "      <td>0.59</td>\n",
       "    </tr>\n",
       "    <tr>\n",
       "      <th>2</th>\n",
       "      <td>1861970.0</td>\n",
       "      <td>45.00</td>\n",
       "      <td>2.0</td>\n",
       "      <td>3</td>\n",
       "      <td>4</td>\n",
       "      <td>5</td>\n",
       "      <td>0</td>\n",
       "      <td>28</td>\n",
       "      <td>109</td>\n",
       "      <td>1</td>\n",
       "      <td>1</td>\n",
       "      <td>0.46</td>\n",
       "    </tr>\n",
       "    <tr>\n",
       "      <th>3</th>\n",
       "      <td>839610.0</td>\n",
       "      <td>18.67</td>\n",
       "      <td>1.0</td>\n",
       "      <td>1</td>\n",
       "      <td>5</td>\n",
       "      <td>5</td>\n",
       "      <td>0</td>\n",
       "      <td>36</td>\n",
       "      <td>188</td>\n",
       "      <td>1</td>\n",
       "      <td>1</td>\n",
       "      <td>0.40</td>\n",
       "    </tr>\n",
       "    <tr>\n",
       "      <th>4</th>\n",
       "      <td>2153536.0</td>\n",
       "      <td>44.00</td>\n",
       "      <td>1.0</td>\n",
       "      <td>3</td>\n",
       "      <td>4</td>\n",
       "      <td>5</td>\n",
       "      <td>0</td>\n",
       "      <td>22</td>\n",
       "      <td>0</td>\n",
       "      <td>1</td>\n",
       "      <td>1</td>\n",
       "      <td>0.41</td>\n",
       "    </tr>\n",
       "  </tbody>\n",
       "</table>\n",
       "</div>"
      ],
      "text/plain": [
       "   ID_CLIENTE  TOTAL_RECARGA  TOTAL_TRANSACCION_RECARGA  PRODUCTO_PRINCIPAL  \\\n",
       "0   1870460.0          20.00                        1.0                   3   \n",
       "1   2031003.0          64.00                        3.0                   3   \n",
       "2   1861970.0          45.00                        2.0                   3   \n",
       "3    839610.0          18.67                        1.0                   1   \n",
       "4   2153536.0          44.00                        1.0                   3   \n",
       "\n",
       "   FRECUENCY  MONETARY  RECENCY  EDAD  DIAS_CON  FLG_FELICIDAD  REG_LOG  \\\n",
       "0          5         5        1    26         0              1        1   \n",
       "1          3         5        1    33         5              1        0   \n",
       "2          4         5        0    28       109              1        1   \n",
       "3          5         5        0    36       188              1        1   \n",
       "4          4         5        0    22         0              1        1   \n",
       "\n",
       "   PROB_REG_LOG  \n",
       "0          0.34  \n",
       "1          0.59  \n",
       "2          0.46  \n",
       "3          0.40  \n",
       "4          0.41  "
      ]
     },
     "execution_count": 24,
     "metadata": {},
     "output_type": "execute_result"
    }
   ],
   "source": [
    "df3.head()"
   ]
  },
  {
   "cell_type": "code",
   "execution_count": 25,
   "metadata": {},
   "outputs": [],
   "source": [
    "# Probabilidad de no activo = PROB_REG_LOG\n",
    "# no activo = 0 , Activo = 1\n",
    "df2['REG_LOG'] = Y_predict_2023\n",
    "df2['PROB_REG_LOG'] = (Y_predict_prob_2023[:,0]).round(2)"
   ]
  },
  {
   "cell_type": "code",
   "execution_count": 26,
   "metadata": {},
   "outputs": [
    {
     "data": {
      "text/html": [
       "<div>\n",
       "<style scoped>\n",
       "    .dataframe tbody tr th:only-of-type {\n",
       "        vertical-align: middle;\n",
       "    }\n",
       "\n",
       "    .dataframe tbody tr th {\n",
       "        vertical-align: top;\n",
       "    }\n",
       "\n",
       "    .dataframe thead th {\n",
       "        text-align: right;\n",
       "    }\n",
       "</style>\n",
       "<table border=\"1\" class=\"dataframe\">\n",
       "  <thead>\n",
       "    <tr style=\"text-align: right;\">\n",
       "      <th></th>\n",
       "      <th>CODMES</th>\n",
       "      <th>ID_CLIENTE</th>\n",
       "      <th>TOTAL_RECARGA</th>\n",
       "      <th>TOTAL_TRANSACCION_RECARGA</th>\n",
       "      <th>FECHA_PRIMERA_ACCION</th>\n",
       "      <th>FECHA_ULTIMA_ACCION</th>\n",
       "      <th>PRODUCTO_PRINCIPAL</th>\n",
       "      <th>FRECUENCY</th>\n",
       "      <th>RECENCY</th>\n",
       "      <th>MONETARY</th>\n",
       "      <th>FECHA_NACIMIENTO</th>\n",
       "      <th>FLG_FELICIDAD</th>\n",
       "      <th>EDAD</th>\n",
       "      <th>DIAS_CON</th>\n",
       "      <th>REG_LOG</th>\n",
       "      <th>PROB_REG_LOG</th>\n",
       "    </tr>\n",
       "  </thead>\n",
       "  <tbody>\n",
       "    <tr>\n",
       "      <th>0</th>\n",
       "      <td>202301</td>\n",
       "      <td>1870460.0</td>\n",
       "      <td>20.00</td>\n",
       "      <td>1.0</td>\n",
       "      <td>2022-11-30</td>\n",
       "      <td>2022-11-30</td>\n",
       "      <td>3</td>\n",
       "      <td>5</td>\n",
       "      <td>1</td>\n",
       "      <td>5</td>\n",
       "      <td>1997-03-25</td>\n",
       "      <td>1</td>\n",
       "      <td>26</td>\n",
       "      <td>0</td>\n",
       "      <td>1</td>\n",
       "      <td>0.34</td>\n",
       "    </tr>\n",
       "    <tr>\n",
       "      <th>1</th>\n",
       "      <td>202301</td>\n",
       "      <td>2031003.0</td>\n",
       "      <td>64.00</td>\n",
       "      <td>3.0</td>\n",
       "      <td>2022-11-19</td>\n",
       "      <td>2022-11-24</td>\n",
       "      <td>3</td>\n",
       "      <td>3</td>\n",
       "      <td>1</td>\n",
       "      <td>5</td>\n",
       "      <td>1990-05-25</td>\n",
       "      <td>1</td>\n",
       "      <td>33</td>\n",
       "      <td>5</td>\n",
       "      <td>0</td>\n",
       "      <td>0.59</td>\n",
       "    </tr>\n",
       "    <tr>\n",
       "      <th>2</th>\n",
       "      <td>202301</td>\n",
       "      <td>1861970.0</td>\n",
       "      <td>45.00</td>\n",
       "      <td>2.0</td>\n",
       "      <td>2022-08-16</td>\n",
       "      <td>2022-12-03</td>\n",
       "      <td>3</td>\n",
       "      <td>4</td>\n",
       "      <td>0</td>\n",
       "      <td>5</td>\n",
       "      <td>1995-06-17</td>\n",
       "      <td>1</td>\n",
       "      <td>28</td>\n",
       "      <td>109</td>\n",
       "      <td>1</td>\n",
       "      <td>0.46</td>\n",
       "    </tr>\n",
       "    <tr>\n",
       "      <th>3</th>\n",
       "      <td>202301</td>\n",
       "      <td>839610.0</td>\n",
       "      <td>18.67</td>\n",
       "      <td>1.0</td>\n",
       "      <td>2022-07-07</td>\n",
       "      <td>2023-01-11</td>\n",
       "      <td>1</td>\n",
       "      <td>5</td>\n",
       "      <td>0</td>\n",
       "      <td>5</td>\n",
       "      <td>1986-12-24</td>\n",
       "      <td>1</td>\n",
       "      <td>36</td>\n",
       "      <td>188</td>\n",
       "      <td>1</td>\n",
       "      <td>0.40</td>\n",
       "    </tr>\n",
       "    <tr>\n",
       "      <th>4</th>\n",
       "      <td>202301</td>\n",
       "      <td>2153536.0</td>\n",
       "      <td>44.00</td>\n",
       "      <td>1.0</td>\n",
       "      <td>2022-12-13</td>\n",
       "      <td>2022-12-13</td>\n",
       "      <td>3</td>\n",
       "      <td>4</td>\n",
       "      <td>0</td>\n",
       "      <td>5</td>\n",
       "      <td>2001-07-01</td>\n",
       "      <td>1</td>\n",
       "      <td>22</td>\n",
       "      <td>0</td>\n",
       "      <td>1</td>\n",
       "      <td>0.41</td>\n",
       "    </tr>\n",
       "  </tbody>\n",
       "</table>\n",
       "</div>"
      ],
      "text/plain": [
       "   CODMES  ID_CLIENTE  TOTAL_RECARGA  TOTAL_TRANSACCION_RECARGA  \\\n",
       "0  202301   1870460.0          20.00                        1.0   \n",
       "1  202301   2031003.0          64.00                        3.0   \n",
       "2  202301   1861970.0          45.00                        2.0   \n",
       "3  202301    839610.0          18.67                        1.0   \n",
       "4  202301   2153536.0          44.00                        1.0   \n",
       "\n",
       "  FECHA_PRIMERA_ACCION FECHA_ULTIMA_ACCION  PRODUCTO_PRINCIPAL  FRECUENCY  \\\n",
       "0           2022-11-30          2022-11-30                   3          5   \n",
       "1           2022-11-19          2022-11-24                   3          3   \n",
       "2           2022-08-16          2022-12-03                   3          4   \n",
       "3           2022-07-07          2023-01-11                   1          5   \n",
       "4           2022-12-13          2022-12-13                   3          4   \n",
       "\n",
       "   RECENCY  MONETARY FECHA_NACIMIENTO  FLG_FELICIDAD  EDAD  DIAS_CON  REG_LOG  \\\n",
       "0        1         5       1997-03-25              1    26         0        1   \n",
       "1        1         5       1990-05-25              1    33         5        0   \n",
       "2        0         5       1995-06-17              1    28       109        1   \n",
       "3        0         5       1986-12-24              1    36       188        1   \n",
       "4        0         5       2001-07-01              1    22         0        1   \n",
       "\n",
       "   PROB_REG_LOG  \n",
       "0          0.34  \n",
       "1          0.59  \n",
       "2          0.46  \n",
       "3          0.40  \n",
       "4          0.41  "
      ]
     },
     "execution_count": 26,
     "metadata": {},
     "output_type": "execute_result"
    }
   ],
   "source": [
    "df2.head()"
   ]
  },
  {
   "cell_type": "code",
   "execution_count": 27,
   "metadata": {},
   "outputs": [],
   "source": [
    "dff = df2[['CODMES','ID_CLIENTE','PROB_REG_LOG']]"
   ]
  },
  {
   "cell_type": "code",
   "execution_count": 28,
   "metadata": {},
   "outputs": [],
   "source": [
    "valores = [0, 0.5, 0.7, 0.8, 1]\n",
    "quintil = [0, 0.2, 0.4, 0.6, 0.8, 1]\n",
    "decil = [0, 0.1, 0.2, 0.3, 0.4, 0.5, 0.6, 0.7, 0.8, 0.9, 1]\n",
    "\n",
    "\n",
    "cat = [\"Segmento 0\",\"Segmento 1\", \"Segmento 2\", \"Segmento 3\"]\n",
    "catquintil = [\"k1\",\"k2\",\"k3\",\"k4\",\"k5\"]\n",
    "catdecil = [\"d1\",\"d2\",\"d3\",\"d4\",\"d5\",\"d6\",\"d7\",\"d8\",\"d9\",\"d10\"]\n",
    "dff['GRUPO_FUGA']= pd.cut(dff['PROB_REG_LOG'], bins=valores, labels=cat)\n",
    "dff['QUINTIL'] = pd.cut(dff['PROB_REG_LOG'], bins=quintil, labels=catquintil)\n",
    "dff['DECIL'] = pd.cut(dff['PROB_REG_LOG'],bins=decil, labels=catdecil)\n",
    "\n"
   ]
  },
  {
   "cell_type": "code",
   "execution_count": 29,
   "metadata": {},
   "outputs": [
    {
     "data": {
      "text/html": [
       "<div>\n",
       "<style scoped>\n",
       "    .dataframe tbody tr th:only-of-type {\n",
       "        vertical-align: middle;\n",
       "    }\n",
       "\n",
       "    .dataframe tbody tr th {\n",
       "        vertical-align: top;\n",
       "    }\n",
       "\n",
       "    .dataframe thead th {\n",
       "        text-align: right;\n",
       "    }\n",
       "</style>\n",
       "<table border=\"1\" class=\"dataframe\">\n",
       "  <thead>\n",
       "    <tr style=\"text-align: right;\">\n",
       "      <th></th>\n",
       "      <th>CODMES</th>\n",
       "      <th>ID_CLIENTE</th>\n",
       "      <th>PROB_REG_LOG</th>\n",
       "      <th>GRUPO_FUGA</th>\n",
       "      <th>QUINTIL</th>\n",
       "      <th>DECIL</th>\n",
       "    </tr>\n",
       "  </thead>\n",
       "  <tbody>\n",
       "    <tr>\n",
       "      <th>0</th>\n",
       "      <td>202301</td>\n",
       "      <td>1870460.0</td>\n",
       "      <td>0.34</td>\n",
       "      <td>Segmento 0</td>\n",
       "      <td>k2</td>\n",
       "      <td>d4</td>\n",
       "    </tr>\n",
       "    <tr>\n",
       "      <th>1</th>\n",
       "      <td>202301</td>\n",
       "      <td>2031003.0</td>\n",
       "      <td>0.59</td>\n",
       "      <td>Segmento 1</td>\n",
       "      <td>k3</td>\n",
       "      <td>d6</td>\n",
       "    </tr>\n",
       "    <tr>\n",
       "      <th>2</th>\n",
       "      <td>202301</td>\n",
       "      <td>1861970.0</td>\n",
       "      <td>0.46</td>\n",
       "      <td>Segmento 0</td>\n",
       "      <td>k3</td>\n",
       "      <td>d5</td>\n",
       "    </tr>\n",
       "    <tr>\n",
       "      <th>3</th>\n",
       "      <td>202301</td>\n",
       "      <td>839610.0</td>\n",
       "      <td>0.40</td>\n",
       "      <td>Segmento 0</td>\n",
       "      <td>k2</td>\n",
       "      <td>d4</td>\n",
       "    </tr>\n",
       "    <tr>\n",
       "      <th>4</th>\n",
       "      <td>202301</td>\n",
       "      <td>2153536.0</td>\n",
       "      <td>0.41</td>\n",
       "      <td>Segmento 0</td>\n",
       "      <td>k3</td>\n",
       "      <td>d5</td>\n",
       "    </tr>\n",
       "    <tr>\n",
       "      <th>...</th>\n",
       "      <td>...</td>\n",
       "      <td>...</td>\n",
       "      <td>...</td>\n",
       "      <td>...</td>\n",
       "      <td>...</td>\n",
       "      <td>...</td>\n",
       "    </tr>\n",
       "    <tr>\n",
       "      <th>5437735</th>\n",
       "      <td>202304</td>\n",
       "      <td>857247.0</td>\n",
       "      <td>0.50</td>\n",
       "      <td>Segmento 0</td>\n",
       "      <td>k3</td>\n",
       "      <td>d5</td>\n",
       "    </tr>\n",
       "    <tr>\n",
       "      <th>5437736</th>\n",
       "      <td>202304</td>\n",
       "      <td>1950088.0</td>\n",
       "      <td>0.47</td>\n",
       "      <td>Segmento 0</td>\n",
       "      <td>k3</td>\n",
       "      <td>d5</td>\n",
       "    </tr>\n",
       "    <tr>\n",
       "      <th>5437737</th>\n",
       "      <td>202304</td>\n",
       "      <td>681724.0</td>\n",
       "      <td>0.28</td>\n",
       "      <td>Segmento 0</td>\n",
       "      <td>k2</td>\n",
       "      <td>d3</td>\n",
       "    </tr>\n",
       "    <tr>\n",
       "      <th>5437738</th>\n",
       "      <td>202304</td>\n",
       "      <td>1277514.0</td>\n",
       "      <td>0.34</td>\n",
       "      <td>Segmento 0</td>\n",
       "      <td>k2</td>\n",
       "      <td>d4</td>\n",
       "    </tr>\n",
       "    <tr>\n",
       "      <th>5437739</th>\n",
       "      <td>202304</td>\n",
       "      <td>2534328.0</td>\n",
       "      <td>0.35</td>\n",
       "      <td>Segmento 0</td>\n",
       "      <td>k2</td>\n",
       "      <td>d4</td>\n",
       "    </tr>\n",
       "  </tbody>\n",
       "</table>\n",
       "<p>4945976 rows × 6 columns</p>\n",
       "</div>"
      ],
      "text/plain": [
       "         CODMES  ID_CLIENTE  PROB_REG_LOG  GRUPO_FUGA QUINTIL DECIL\n",
       "0        202301   1870460.0          0.34  Segmento 0      k2    d4\n",
       "1        202301   2031003.0          0.59  Segmento 1      k3    d6\n",
       "2        202301   1861970.0          0.46  Segmento 0      k3    d5\n",
       "3        202301    839610.0          0.40  Segmento 0      k2    d4\n",
       "4        202301   2153536.0          0.41  Segmento 0      k3    d5\n",
       "...         ...         ...           ...         ...     ...   ...\n",
       "5437735  202304    857247.0          0.50  Segmento 0      k3    d5\n",
       "5437736  202304   1950088.0          0.47  Segmento 0      k3    d5\n",
       "5437737  202304    681724.0          0.28  Segmento 0      k2    d3\n",
       "5437738  202304   1277514.0          0.34  Segmento 0      k2    d4\n",
       "5437739  202304   2534328.0          0.35  Segmento 0      k2    d4\n",
       "\n",
       "[4945976 rows x 6 columns]"
      ]
     },
     "execution_count": 29,
     "metadata": {},
     "output_type": "execute_result"
    }
   ],
   "source": [
    "# df final\n",
    "dff"
   ]
  },
  {
   "attachments": {},
   "cell_type": "markdown",
   "metadata": {},
   "source": [
    "## Carga de Datos "
   ]
  },
  {
   "cell_type": "code",
   "execution_count": 30,
   "metadata": {},
   "outputs": [],
   "source": [
    "conn3 = pyodbc.connect(DRIVER='{ODBC Driver 17 for SQL Server}',\n",
    "                      SERVER='dblatinkadwh.database.windows.net',\n",
    "                      DATABASE='DWH_LaTinka',\n",
    "                       UID='diego.rojass',\n",
    "                       PWD='Latinka01*')"
   ]
  },
  {
   "cell_type": "code",
   "execution_count": 31,
   "metadata": {},
   "outputs": [],
   "source": [
    "cursor = conn3.cursor()\n",
    "cursor.fast_executemany = True\n",
    "# Borrar los datos de la tabla ml.cluste_2022\n",
    "cursor.execute(\"TRUNCATE TABLE BDS.CLIENTE_RATIO_FUGA\")\n",
    "conn3.commit()\n"
   ]
  },
  {
   "cell_type": "code",
   "execution_count": 32,
   "metadata": {},
   "outputs": [],
   "source": [
    "# Insertar valores\n",
    "sql_insert = \"\"\"INSERT INTO BDS.CLIENTE_RATIO_FUGA VALUES (?,?,?,?,?,?)\"\"\"\n",
    "val = dff[['CODMES', 'ID_CLIENTE', 'PROB_REG_LOG',\n",
    "          'GRUPO_FUGA','QUINTIL','DECIL']].values.tolist()\n",
    "cursor.fast_executemany = True\n",
    "cursor.executemany(sql_insert, val)\n",
    "conn3.commit()\n",
    "# Cerrar las conexiones\n",
    "conn3.close()\n"
   ]
  }
 ],
 "metadata": {
  "kernelspec": {
   "display_name": "Python 3",
   "language": "python",
   "name": "python3"
  },
  "language_info": {
   "codemirror_mode": {
    "name": "ipython",
    "version": 3
   },
   "file_extension": ".py",
   "mimetype": "text/x-python",
   "name": "python",
   "nbconvert_exporter": "python",
   "pygments_lexer": "ipython3",
   "version": "3.10.9"
  },
  "orig_nbformat": 4
 },
 "nbformat": 4,
 "nbformat_minor": 2
}
